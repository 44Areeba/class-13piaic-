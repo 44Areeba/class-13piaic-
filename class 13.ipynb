{
 "cells": [
  {
   "cell_type": "code",
   "execution_count": 2,
   "id": "d053c796",
   "metadata": {},
   "outputs": [
    {
     "data": {
      "text/plain": [
       "16.0"
      ]
     },
     "execution_count": 2,
     "metadata": {},
     "output_type": "execute_result"
    }
   ],
   "source": [
    "### a number can divide a number ###\n",
    "32/2"
   ]
  },
  {
   "cell_type": "code",
   "execution_count": 3,
   "id": "fe6eac8f",
   "metadata": {},
   "outputs": [
    {
     "data": {
      "text/plain": [
       "4.0"
      ]
     },
     "execution_count": 3,
     "metadata": {},
     "output_type": "execute_result"
    }
   ],
   "source": [
    "12/3\n"
   ]
  },
  {
   "cell_type": "code",
   "execution_count": 4,
   "id": "9cb5c477",
   "metadata": {},
   "outputs": [
    {
     "ename": "ZeroDivisionError",
     "evalue": "division by zero",
     "output_type": "error",
     "traceback": [
      "\u001b[1;31m---------------------------------------------------------------------------\u001b[0m",
      "\u001b[1;31mZeroDivisionError\u001b[0m                         Traceback (most recent call last)",
      "\u001b[1;32m<ipython-input-4-898e9759c56e>\u001b[0m in \u001b[0;36m<module>\u001b[1;34m\u001b[0m\n\u001b[1;32m----> 1\u001b[1;33m \u001b[1;36m12\u001b[0m\u001b[1;33m/\u001b[0m\u001b[1;36m0\u001b[0m\u001b[1;33m\u001b[0m\u001b[1;33m\u001b[0m\u001b[0m\n\u001b[0m",
      "\u001b[1;31mZeroDivisionError\u001b[0m: division by zero"
     ]
    }
   ],
   "source": [
    "12/0"
   ]
  },
  {
   "cell_type": "code",
   "execution_count": 5,
   "id": "2c01d40a",
   "metadata": {},
   "outputs": [
    {
     "ename": "TypeError",
     "evalue": "unsupported operand type(s) for /: 'int' and 'str'",
     "output_type": "error",
     "traceback": [
      "\u001b[1;31m---------------------------------------------------------------------------\u001b[0m",
      "\u001b[1;31mTypeError\u001b[0m                                 Traceback (most recent call last)",
      "\u001b[1;32m<ipython-input-5-cfe2a45bebf7>\u001b[0m in \u001b[0;36m<module>\u001b[1;34m\u001b[0m\n\u001b[1;32m----> 1\u001b[1;33m \u001b[1;36m32\u001b[0m\u001b[1;33m/\u001b[0m\u001b[1;34m\"r\"\u001b[0m\u001b[1;33m\u001b[0m\u001b[1;33m\u001b[0m\u001b[0m\n\u001b[0m",
      "\u001b[1;31mTypeError\u001b[0m: unsupported operand type(s) for /: 'int' and 'str'"
     ]
    }
   ],
   "source": [
    "32/\"r\""
   ]
  },
  {
   "cell_type": "code",
   "execution_count": 6,
   "id": "d6388116",
   "metadata": {},
   "outputs": [
    {
     "name": "stdout",
     "output_type": "stream",
     "text": [
      "Enter a number10\n",
      "Enter a number5\n",
      "2.0\n"
     ]
    }
   ],
   "source": [
    "# syntax error and logical/run time error\n",
    "\n",
    "a=int(input(\"Enter a number\"))\n",
    "b=int(input(\"Enter a number\"))\n",
    "c=a/b\n",
    "print(c)"
   ]
  },
  {
   "cell_type": "code",
   "execution_count": 9,
   "id": "35a9e288",
   "metadata": {},
   "outputs": [
    {
     "name": "stdout",
     "output_type": "stream",
     "text": [
      "Enter a number88\n",
      "Enter a number8\n",
      "11.0\n"
     ]
    }
   ],
   "source": [
    "try:\n",
    "    a=int(input(\"Enter a number\"))\n",
    "    b=int(input(\"Enter a number\"))\n",
    "    e=a/b\n",
    "except zeroDivisionError:\n",
    "    print(\"you cannot divide a number by zero\")\n",
    "    \n",
    "except valueError:\n",
    "    print(\"please supply avalid integer value\")\n",
    "else:\n",
    "    print(e)\n",
    "    \n",
    "    "
   ]
  },
  {
   "cell_type": "code",
   "execution_count": 12,
   "id": "8b1c1c5d",
   "metadata": {},
   "outputs": [
    {
     "name": "stdout",
     "output_type": "stream",
     "text": [
      "Enter a number12\n",
      "Enter a number2\n",
      "You have shortlist\n"
     ]
    }
   ],
   "source": [
    "aa=[2,3]\n",
    "try:\n",
    "    a=int(input(\"Enter a number\"))\n",
    "    b=int(input(\"Enter a number\"))\n",
    "    c=a/b\n",
    "    s=aa[4]\n",
    "    # value error\n",
    "    # zero div\n",
    "except ZeroDivisionError:\n",
    "    print(\"zero division error generated and caught\")\n",
    "    \n",
    "except ValueError:\n",
    "    print(\"Value error generated and caught\")\n",
    "    \n",
    "except IndexError:\n",
    "    print(\"You have shortlist\")\n",
    "    \n",
    "    \n",
    "else:\n",
    "    print(\"code ahead.....\",s)"
   ]
  },
  {
   "cell_type": "code",
   "execution_count": 16,
   "id": "0db84bc1",
   "metadata": {},
   "outputs": [
    {
     "name": "stdout",
     "output_type": "stream",
     "text": [
      "Enter a number55\n",
      "Enter a number0\n",
      "Handled Zero division error\n",
      "hello\n"
     ]
    }
   ],
   "source": [
    "a=int(input(\"Enter a number\"))\n",
    "b=int(input(\"Enter a number\"))\n",
    "try:\n",
    "    c=a/b\n",
    "    \n",
    "except ZeroDivisionError:\n",
    "    print(\"Handled Zero division error\")\n",
    "    \n",
    "else:\n",
    "    print(\"Else \" +str(c))\n",
    "    \n",
    "print(\"hello\")    "
   ]
  },
  {
   "cell_type": "code",
   "execution_count": 19,
   "id": "f710f35a",
   "metadata": {},
   "outputs": [
    {
     "name": "stdout",
     "output_type": "stream",
     "text": [
      "First\n",
      "Enter a number12\n",
      "Enter a number2\n",
      "Enter a index2\n",
      "6.0 3\n"
     ]
    }
   ],
   "source": [
    "print(\"First\")\n",
    "d=[1,2,3,4,5,6,7,8,9]\n",
    "try:\n",
    "    a=int(input(\"Enter a number\"))\n",
    "    b=int(input(\"Enter a number\"))\n",
    "    index=int(input(\"Enter a index\"))\n",
    "    c=a/b\n",
    "    e=d[index]\n",
    "except ZeroDivisionError:\n",
    "    print(\"Handled zero division error\")\n",
    "except ValueError:\n",
    "    print(\"Value error reported\")\n",
    "except IndexError:\n",
    "    print(\"Index error reported\")\n",
    "except:\n",
    "    print(\"caught\")\n",
    "else:  \n",
    "    print(c,e)"
   ]
  },
  {
   "cell_type": "code",
   "execution_count": 21,
   "id": "fcd054e7",
   "metadata": {},
   "outputs": [
    {
     "name": "stdout",
     "output_type": "stream",
     "text": [
      "Enter a number7\n",
      "Enter a number5\n",
      "1.4\n"
     ]
    }
   ],
   "source": [
    "d=[]\n",
    "try:\n",
    "    a=int(input(\"Enter a number\"))#to except null value and value type errors\n",
    "    b=int(input(\"Enter a number\"))#we kept these input also in try block\n",
    "    c=a/b\n",
    "    e=d\n",
    "except:       \n",
    "    print(\"Exception is caught\")\n",
    "        \n",
    "else:\n",
    "    print(c)"
   ]
  },
  {
   "cell_type": "code",
   "execution_count": 27,
   "id": "5e9f97c1",
   "metadata": {},
   "outputs": [
    {
     "name": "stdout",
     "output_type": "stream",
     "text": [
      "Enter a number6\n",
      "Enter a number2\n",
      "Handle error ==list index out of range\n",
      "Hello World\n"
     ]
    }
   ],
   "source": [
    "d=[]\n",
    "try:\n",
    "    a=int(input(\"Enter a number\"))\n",
    "    b=int(input(\"Enter a number\"))\n",
    "    \"\"\"\n",
    "    built in message print karna hai exception ka tn {except Exception as e:}\n",
    "    is mai jis trha ki exception ayegi wo uska message khud hi utha k laega or print karega is code ko khud se\n",
    "    run kare or exception\n",
    "    raise kr k dekhen\n",
    "    \"\"\"\n",
    "    c=a/b\n",
    "    ee=d[5]\n",
    "except Exception as e:#handler object of exception class\n",
    "    print(\"Handle error ==\" +str(e))\n",
    "    \n",
    "else: \n",
    "    print(c)\n",
    "        \n",
    "print(\"Hello World\")    "
   ]
  },
  {
   "cell_type": "code",
   "execution_count": 28,
   "id": "6a02f3fb",
   "metadata": {},
   "outputs": [
    {
     "ename": "SyntaxError",
     "evalue": "invalid syntax (<ipython-input-28-6c762fc2f7ae>, line 16)",
     "output_type": "error",
     "traceback": [
      "\u001b[1;36m  File \u001b[1;32m\"<ipython-input-28-6c762fc2f7ae>\"\u001b[1;36m, line \u001b[1;32m16\u001b[0m\n\u001b[1;33m    finally:(\"I am also finally\")\u001b[0m\n\u001b[1;37m    ^\u001b[0m\n\u001b[1;31mSyntaxError\u001b[0m\u001b[1;31m:\u001b[0m invalid syntax\n"
     ]
    }
   ],
   "source": [
    "d=[]\n",
    "try:\n",
    "    a=int(input(\"Enter a number\"))\n",
    "    b=int(input(\"Enter a number\"))\n",
    "    c=a/b\n",
    "    e=d[5]\n",
    "except ZeroDivisionError:\n",
    "    print(\"Handled Zer division error\")\n",
    "    \n",
    "else:\n",
    "    print(c)\n",
    "    \n",
    "finally:  \n",
    "    print(\"Finally will always run\")\n",
    "    \n",
    "finally:(\"I am also finally\")    "
   ]
  },
  {
   "cell_type": "code",
   "execution_count": 29,
   "id": "cb90b134",
   "metadata": {},
   "outputs": [
    {
     "name": "stdout",
     "output_type": "stream",
     "text": [
      "Enter num10\n",
      "lst\n",
      "Enter num2\n",
      "lst\n",
      "Enter num4\n",
      "lst\n",
      "Enter num7\n",
      "lst\n",
      "Enter num10\n",
      "lst\n",
      "Enter num55\n",
      "lst\n",
      "Enter num88\n",
      "lst\n",
      "Enter num100\n",
      "lst\n",
      "Enter num77\n",
      "lst\n",
      "Enter num0\n",
      "lst\n"
     ]
    }
   ],
   "source": [
    "lst=[]\n",
    "for a in range(10):\n",
    "    try:\n",
    "        num=int(input(\"Enter num\"))\n",
    "        #10\n",
    "        lst.append(num)\n",
    "    except:\n",
    "        print(\"Error\")\n",
    "    finally:\n",
    "        print(\"lst\")"
   ]
  },
  {
   "cell_type": "markdown",
   "id": "2698e94d",
   "metadata": {},
   "source": [
    "### Raising your own Exception ###\n",
    "we can raise exception by ourselves any one condition we define like if a>10 raise exception like if user inputs value 10 raise exception"
   ]
  },
  {
   "cell_type": "code",
   "execution_count": 31,
   "id": "e8650d72",
   "metadata": {},
   "outputs": [],
   "source": [
    "class Student():\n",
    "    def __init__(self,name,age):\n",
    "        if age>80 or age <16:\n",
    "            raise Exception(\"Age cannot be greater then 80 and less then 16\")\n",
    "        self.name=name\n",
    "        self.age=age"
   ]
  },
  {
   "cell_type": "code",
   "execution_count": 36,
   "id": "169ad5b1",
   "metadata": {},
   "outputs": [
    {
     "name": "stdout",
     "output_type": "stream",
     "text": [
      "Enter student age: 16\n",
      "16\n"
     ]
    }
   ],
   "source": [
    "age=int(input(\"Enter student age: \"))\n",
    "st=Student(\"Nasir\",age)\n",
    "print(st.age)"
   ]
  },
  {
   "cell_type": "code",
   "execution_count": 39,
   "id": "94eb8f94",
   "metadata": {},
   "outputs": [
    {
     "name": "stdout",
     "output_type": "stream",
     "text": [
      "Enter student age15\n",
      "ExceptionAge canot be greater then 80 or less than 16\n"
     ]
    }
   ],
   "source": [
    "class Student():\n",
    "    def __init__(self,name,age):\n",
    "        if age>80 or age<16:\n",
    "            raise Exception(\"Age canot be greater then 80 or less than 16\")\n",
    "        self.name=name\n",
    "        self.age=age\n",
    "        \n",
    "        \n",
    "        '''ab humen try except laga diya hy code crash nhai hoga'''\n",
    "try:\n",
    "    age=int(input(\"Enter student age\"))\n",
    "    st=Student(\"Hello\",age)\n",
    "except Exception as e:\n",
    "    print(\"Exception\" +str(e))\n",
    "    \n",
    "else:\n",
    "    print(st.age)"
   ]
  },
  {
   "cell_type": "markdown",
   "id": "184df3a8",
   "metadata": {},
   "source": [
    "### File Handling ####\n",
    "\n",
    "Read mode: file must be present on the location\n",
    "Open must be closed in every mode "
   ]
  },
  {
   "cell_type": "code",
   "execution_count": 21,
   "id": "cf5bd462",
   "metadata": {},
   "outputs": [
    {
     "name": "stdout",
     "output_type": "stream",
     "text": [
      "Data science is an interdisciplinary field that uses scientific methods, processes, algorithms and systems to extract knowledge and insights from noisy, structured and unstructured data,[1][2] and apply knowledge and actionable insights from data across a broad range of application domains. Data science is related to data mining, machine learning and big data.\n",
      "\n",
      "Data science is a \"concept to unify statistics, data analysis, informatics, and their related methods\" in order to \"understand and analyze actual phenomena\" with data.[3] It uses techniques and theories drawn from many fields within the context of mathematics, statistics, computer science, information science, and domain knowledge. However, data science is different from computer science and information science. Turing Award winner Jim Gray imagined data science as a \"fourth paradigm\" of science (empirical, theoretical, computational, and now data-driven) and asserted that \"everything about science is changing because of the impact of information technology\" and the data deluge.[4][5]\n",
      "\n",
      "\n",
      "Contents\n",
      "1\tFoundations\n",
      "1.1\tRelationship to statistics\n",
      "2\tEtymology\n",
      "2.1\tEarly usage\n",
      "2.2\tModern usage\n",
      "3\tImpact\n",
      "4\tTechnologies and techniques\n",
      "4.1\tTechniques\n",
      "5\tSee also\n",
      "6\tReferences\n",
      "Foundations\n",
      "Data science is an interdisciplinary field focused on extracting knowledge from data sets, which are typically large (see big data), and applying the knowledge and actionable insights from data to solve problems in a wide range of application domains.[6] The field encompasses preparing data for analysis, formulating data science problems, analyzing data, developing data-driven solutions, and presenting findings to inform high-level decisions in a broad range of application domains. As such, it incorporates skills from computer science, statistics, information science, mathematics, information visualization, data integration, graphic design, complex systems, communication and business.[7][8] Statistician Nathan Yau, drawing on Ben Fry, also links data science to human-computer interaction: users should be able to intuitively control and explore data.[9][10] In 2015, the American Statistical Association identified database management, statistics and machine learning, and distributed and parallel systems as the three emerging foundational professional communities.[11]\n",
      "\n",
      "Relationship to statistics\n",
      "Many statisticians, including Nate Silver, have argued that data science is not a new field, but rather another name for statistics.[12] Others argue that data science is distinct from statistics because it focuses on problems and techniques unique to digital data.[13] Vasant Dhar writes that statistics emphasizes quantitative data and description. In contrast, data science deals with quantitative and qualitative data (e.g. images) and emphasizes prediction and action.[14] Andrew Gelman of Columbia University has described statistics as a nonessential part of data science.[15] Stanford professor David Donoho writes that data science is not distinguished from statistics by the size of datasets or use of computing, and that many graduate programs misleadingly advertise their analytics and statistics training as the essence of a data science program. He describes data science as an applied field growing out of traditional statistics.[16] In summary, data science can be therefore described as an applied branch of statistics.\n",
      "\n",
      "Etymology\n",
      "Early usage\n",
      "In 1962, John Tukey described a field he called \"data analysis\", which resembles modern data science.[16] In 1985, in a lecture given to the Chinese Academy of Sciences in Beijing, C.F. Jeff Wu used the term Data Science for the first time as an alternative name for statistics.[17] Later, attendees at a 1992 statistics symposium at the University of Montpellier II acknowledged the emergence of a new discipline focused on data of various origins and forms, combining established concepts and principles of statistics and data analysis with computing.[18][19]\n",
      "\n",
      "The term \"data science\" has been traced back to 1974, when Peter Naur proposed it as an alternative name for computer science.[20] In 1996, the International Federation of Classification Societies became the first conference to specifically feature data science as a topic.[20] However, the definition was still in flux. After the 1985 lecture in the Chinese Academy of Sciences in Beijing, in 1997 C.F. Jeff Wu again suggested that statistics should be renamed data science. He reasoned that a new name would help statistics shed inaccurate stereotypes, such as being synonymous with accounting, or limited to describing data.[21] In 1998, Hayashi Chikio argued for data science as a new, interdisciplinary concept, with three aspects: data design, collection, and analysis.[19]\n",
      "\n",
      "During the 1990s, popular terms for the process of finding patterns in datasets (which were increasingly large) included \"knowledge discovery\" and \"data mining\".[22][20]\n",
      "\n",
      "Modern usage\n",
      "The modern conception of data science as an independent discipline is sometimes attributed to William S. Cleveland.[23] In a 2001 paper, he advocated an expansion of statistics beyond theory into technical areas; because this would significantly change the field, it warranted a new name.[22] \"Data science\" became more widely used in the next few years: in 2002, the Committee on Data for Science and Technology launched Data Science Journal. In 2003, Columbia University launched The Journal of Data Science.[22] In 2014, the American Statistical Association's Section on Statistical Learning and Data Mining changed its name to the Section on Statistical Learning and Data Science, reflecting the ascendant popularity of data science.[24]\n",
      "\n",
      "The professional title of \"data scientist\" has been attributed to DJ Patil and Jeff Hammerbacher in 2008.[25] Though it was used by the National Science Board in their 2005 report, \"Long-Lived Digital Data Collections: Enabling Research and Education in the 21st Century,\" it referred broadly to any key role in managing a digital data collection.[26]\n",
      "\n",
      "There is still no consensus on the definition of data science and it is considered by some to be a buzzword.[27]\n",
      "\n",
      "Impact\n",
      "Big data is very quickly becoming a vital tool for businesses and companies of all sizes.[28] The availability and interpretation of big data has altered the business models of old industries and enabled the creation of new ones.[28] Data-driven businesses are worth $1.2 trillion collectively in 2020, an increase from $333 billion in the year 2015.[29] Data scientists are responsible for breaking down big data into usable information and creating software and algorithms that help companies and organizations determine optimal operations.[29] As big data continues to have a major impact on the world, data science does as well due to the close relationship between the two.[29]\n"
     ]
    }
   ],
   "source": [
    "try:\n",
    "    f=open(\"chatbot.txt\",'r')# f is  Handler\n",
    "    print(f.read())\n",
    "except FileNotFoundError:\n",
    "    print(\"The file you are looking for is not at location\")\n",
    "finally:\n",
    "    f.close()\n",
    "    "
   ]
  },
  {
   "cell_type": "code",
   "execution_count": null,
   "id": "31cf4966",
   "metadata": {},
   "outputs": [],
   "source": [
    "### Write mode: if i write in existing file. it will override all previous data, if in writing mode i try to write \n",
    "### in non existing,it will first create file and then write in it"
   ]
  },
  {
   "cell_type": "code",
   "execution_count": 17,
   "id": "7b514ecc",
   "metadata": {},
   "outputs": [],
   "source": [
    "# context manager\n",
    "with open(\"E:/myfile.txt\",'w')as f:\n",
    "    f.write(\"Hello welcome to my file \\n\")\n",
    "    f.write(\"Hello welcome to my file \\n\")\n",
    "    f.write(\"Hello welcome to my file \\n\")\n",
    "    f.write(\"Hello welcome to my file \\n\")\n",
    "    f.write(\"Hello welcome to my file \\n\")\n",
    "    f.write(\"Hello welcome to my file \\n\")\n",
    "    \n",
    "\n",
    "# context manager closes file iteself as soon as indent gets out.      "
   ]
  },
  {
   "cell_type": "code",
   "execution_count": 18,
   "id": "3128ffb0",
   "metadata": {},
   "outputs": [
    {
     "name": "stdout",
     "output_type": "stream",
     "text": [
      "\n",
      "Hello tis is append mode \n",
      "Hello tis is append mode \n"
     ]
    }
   ],
   "source": [
    "with open(\"myfile.txt\",'r')as f:\n",
    "    print(f.read())"
   ]
  },
  {
   "cell_type": "code",
   "execution_count": 13,
   "id": "15587baa",
   "metadata": {},
   "outputs": [
    {
     "name": "stdout",
     "output_type": "stream",
     "text": [
      "\n",
      "Hello tis is append mode \n"
     ]
    }
   ],
   "source": [
    "with open(\"myfile.txt\",'r')as f:\n",
    "    print(f.read())"
   ]
  },
  {
   "cell_type": "code",
   "execution_count": 19,
   "id": "067b914d",
   "metadata": {},
   "outputs": [],
   "source": [
    "with open(\"E:/myfile.txt\",'w')as f:\n",
    "    f.write(\"Now i have written in existing file \\nso prev data is gone\")"
   ]
  },
  {
   "cell_type": "code",
   "execution_count": 16,
   "id": "aa9c204b",
   "metadata": {},
   "outputs": [],
   "source": [
    "with open(\"myfile.txt\",\"a\")as f:\n",
    "    f.write(\"\\nHello tis is append mode \")"
   ]
  },
  {
   "cell_type": "code",
   "execution_count": null,
   "id": "0b8d3537",
   "metadata": {},
   "outputs": [],
   "source": []
  }
 ],
 "metadata": {
  "kernelspec": {
   "display_name": "Python 3",
   "language": "python",
   "name": "python3"
  },
  "language_info": {
   "codemirror_mode": {
    "name": "ipython",
    "version": 3
   },
   "file_extension": ".py",
   "mimetype": "text/x-python",
   "name": "python",
   "nbconvert_exporter": "python",
   "pygments_lexer": "ipython3",
   "version": "3.8.8"
  }
 },
 "nbformat": 4,
 "nbformat_minor": 5
}
